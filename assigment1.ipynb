{
 "cells": [
  {
   "cell_type": "markdown",
   "id": "74545201-4ce7-4beb-ba44-e006cad162a3",
   "metadata": {},
   "source": [
    "## Q1. Create one variable containing following type of data:\n",
    "## (i) string\n",
    "## (ii) list\n",
    "## (iii) float\n",
    "## (iv) tuple"
   ]
  },
  {
   "cell_type": "code",
   "execution_count": 1,
   "id": "f21696ed-59ed-4172-ab23-2c9189ea1d39",
   "metadata": {},
   "outputs": [],
   "source": [
    "var =[ \" Ram \", [ 1,2,3,] , 3.3, ( 1,2,3,4,5 )]"
   ]
  },
  {
   "cell_type": "code",
   "execution_count": 2,
   "id": "0601832b-8230-406c-bde0-895ed632a53c",
   "metadata": {},
   "outputs": [
    {
     "data": {
      "text/plain": [
       "[' Ram ', [1, 2, 3], 3.3, (1, 2, 3, 4, 5)]"
      ]
     },
     "execution_count": 2,
     "metadata": {},
     "output_type": "execute_result"
    }
   ],
   "source": [
    "var"
   ]
  },
  {
   "cell_type": "markdown",
   "id": "3ec4accf-72d7-40a1-814d-b2e7b1acf87d",
   "metadata": {},
   "source": [
    "# Q2. Given are some following variables containing data:\n",
    "# (i) var1 = ‘ ‘\n",
    "# (ii) var2 = ‘[ DS , ML , Python]’\n",
    "# (iii) var3 = [ ‘DS’ , ’ML’ , ‘Python’ ]\n",
    "# (iv) var4 = 1."
   ]
  },
  {
   "cell_type": "markdown",
   "id": "8aa92b5c-72f2-4f1d-b556-aaf4413c1121",
   "metadata": {},
   "source": [
    "# What will be the data type of the above given variable."
   ]
  },
  {
   "cell_type": "code",
   "execution_count": 11,
   "id": "ffa5d236-0356-4232-9aa5-dfc7a96907c7",
   "metadata": {},
   "outputs": [],
   "source": [
    "var1 = ''"
   ]
  },
  {
   "cell_type": "code",
   "execution_count": 6,
   "id": "0068b929-6099-4c8f-8d8a-24bd1c438a98",
   "metadata": {},
   "outputs": [],
   "source": [
    "var2 ='[DS, ML,Python]'"
   ]
  },
  {
   "cell_type": "code",
   "execution_count": 8,
   "id": "c3c5b66d-62c1-4970-89c4-1dd4e3f90317",
   "metadata": {},
   "outputs": [],
   "source": [
    "var3 = [ 'DS' , 'ML' , 'Python' ]"
   ]
  },
  {
   "cell_type": "code",
   "execution_count": 9,
   "id": "33650eba-e1fc-427b-b727-4421460de40f",
   "metadata": {},
   "outputs": [],
   "source": [
    "var4 = 1"
   ]
  },
  {
   "cell_type": "code",
   "execution_count": 12,
   "id": "fb430d81-ce90-4c85-b1bb-2f7b5c4583a5",
   "metadata": {},
   "outputs": [
    {
     "data": {
      "text/plain": [
       "str"
      ]
     },
     "execution_count": 12,
     "metadata": {},
     "output_type": "execute_result"
    }
   ],
   "source": [
    "type(var1 )"
   ]
  },
  {
   "cell_type": "code",
   "execution_count": 13,
   "id": "ce990df5-eb43-4d78-a096-d677d599003e",
   "metadata": {},
   "outputs": [
    {
     "data": {
      "text/plain": [
       "str"
      ]
     },
     "execution_count": 13,
     "metadata": {},
     "output_type": "execute_result"
    }
   ],
   "source": [
    "type(var2)"
   ]
  },
  {
   "cell_type": "code",
   "execution_count": 14,
   "id": "b47c741c-0937-4dbe-9ebd-767adba8c95a",
   "metadata": {},
   "outputs": [
    {
     "data": {
      "text/plain": [
       "list"
      ]
     },
     "execution_count": 14,
     "metadata": {},
     "output_type": "execute_result"
    }
   ],
   "source": [
    "type(var3 )"
   ]
  },
  {
   "cell_type": "code",
   "execution_count": 15,
   "id": "ee0e8080-9d95-422b-acde-7e185aab1db1",
   "metadata": {},
   "outputs": [
    {
     "data": {
      "text/plain": [
       "int"
      ]
     },
     "execution_count": 15,
     "metadata": {},
     "output_type": "execute_result"
    }
   ],
   "source": [
    "type(var4 )"
   ]
  },
  {
   "cell_type": "markdown",
   "id": "624017ef-0c95-4f63-8cb0-bdd605fd060c",
   "metadata": {},
   "source": [
    "# Q3. Explain the use of the following operators using an example:\n",
    "# (i) /\n",
    "# (ii) %\n",
    "# (iii) //\n",
    "# (iv) **"
   ]
  },
  {
   "cell_type": "code",
   "execution_count": 16,
   "id": "6f9d11a3-2245-40ac-a05c-fcefccc6ee8a",
   "metadata": {},
   "outputs": [
    {
     "data": {
      "text/plain": [
       "2.5"
      ]
     },
     "execution_count": 16,
     "metadata": {},
     "output_type": "execute_result"
    }
   ],
   "source": [
    "5/2  # this is devison operator is af afer  quotient   2) 5 (2.5"
   ]
  },
  {
   "cell_type": "code",
   "execution_count": 17,
   "id": "6a2f9b07-5cdb-4f50-88f1-57b7ad4f0f7a",
   "metadata": {},
   "outputs": [
    {
     "data": {
      "text/plain": [
       "1"
      ]
     },
     "execution_count": 17,
     "metadata": {},
     "output_type": "execute_result"
    }
   ],
   "source": [
    "5%2  # this is moduel afer divied remainder "
   ]
  },
  {
   "cell_type": "code",
   "execution_count": 18,
   "id": "499317d6-7169-4955-9beb-6c028094a36e",
   "metadata": {},
   "outputs": [
    {
     "data": {
      "text/plain": [
       "2"
      ]
     },
     "execution_count": 18,
     "metadata": {},
     "output_type": "execute_result"
    }
   ],
   "source": [
    "5//2 # this is floor divsion operator is afer quotient without float"
   ]
  },
  {
   "cell_type": "code",
   "execution_count": 19,
   "id": "403f3630-7e21-48c9-a33a-10b3808df261",
   "metadata": {},
   "outputs": [
    {
     "data": {
      "text/plain": [
       "25"
      ]
     },
     "execution_count": 19,
     "metadata": {},
     "output_type": "execute_result"
    }
   ],
   "source": [
    "5 **2 # this is square operator it is use for any number square"
   ]
  },
  {
   "cell_type": "markdown",
   "id": "7ac8cd8c-5719-4bfb-9bc1-42d327d91982",
   "metadata": {},
   "source": [
    "# Create a list of length 10 of your choice containing multiple types of data. Using for loop print the\n",
    "# element and its data type."
   ]
  },
  {
   "cell_type": "code",
   "execution_count": 21,
   "id": "50d2b179-df4c-44b1-8218-67dfd8b8bc2d",
   "metadata": {},
   "outputs": [],
   "source": [
    "list1 = [ 1,2,3,4.4, True ,'Shree ram ', (1,2,3) ,{5.3,2}, { \"Ram\" : 100, \" krishna \" : 100}] "
   ]
  },
  {
   "cell_type": "code",
   "execution_count": 22,
   "id": "a3ec0c07-f634-42cf-92c1-7c2d0e54dc7c",
   "metadata": {},
   "outputs": [
    {
     "name": "stdout",
     "output_type": "stream",
     "text": [
      "1\n",
      "2\n",
      "3\n",
      "4.4\n",
      "True\n",
      "Shree ram \n",
      "(1, 2, 3)\n",
      "{2, 5.3}\n",
      "{'Ram': 100, ' krishna ': 100}\n"
     ]
    }
   ],
   "source": [
    "for i in list1 :\n",
    "    print(i)"
   ]
  },
  {
   "cell_type": "markdown",
   "id": "1d71ee92-480c-4ffc-b6e1-afa1520a3833",
   "metadata": {},
   "source": [
    "# Q5. Using a while loop, verify if the number A is purely divisible by number B and if so then how many times it can be divisible."
   ]
  },
  {
   "cell_type": "code",
   "execution_count": 32,
   "id": "a1d46f4b-c1d6-448f-b7d3-0faeaff008e1",
   "metadata": {},
   "outputs": [
    {
     "name": "stdin",
     "output_type": "stream",
     "text": [
      " Enter the first number :  16\n",
      " Enter the second numbet :  2\n"
     ]
    },
    {
     "name": "stdout",
     "output_type": "stream",
     "text": [
      "2.0 is divisble by 2 exactly 4 times.\n"
     ]
    }
   ],
   "source": [
    "count = 0\n",
    "a = int ( input (\" Enter the first number : \"))\n",
    "b = int ( input (\" Enter the second numbet : \"))\n",
    "while a>=b and a%b==0:\n",
    "        a/=b\n",
    "        count =count +1\n",
    "if count > 0 :\n",
    "        print( f\"{a * b} is divisble by {b} exactly {count} times.\")\n",
    "else:\n",
    "        print(f\"{a * b} is not divisible by {b}.\")"
   ]
  },
  {
   "cell_type": "markdown",
   "id": "a7971977-0018-4a74-bb96-219b3339f9f0",
   "metadata": {},
   "source": [
    "# Create a list containing 25 int type data. Using for loop and if-else condition print if the element isdivisible by 3 or not."
   ]
  },
  {
   "cell_type": "code",
   "execution_count": 35,
   "id": "03f6a9f6-183d-4a01-b666-516142c28049",
   "metadata": {},
   "outputs": [],
   "source": [
    "import  random"
   ]
  },
  {
   "cell_type": "code",
   "execution_count": 38,
   "id": "0479d79f-8cc2-4ffe-9776-092e47c252e5",
   "metadata": {},
   "outputs": [],
   "source": [
    "random_numbers = [random.randint(1, 100) for _ in range(25)]\n"
   ]
  },
  {
   "cell_type": "code",
   "execution_count": 39,
   "id": "5abba3f9-e560-4595-9b44-080cdc31e553",
   "metadata": {},
   "outputs": [
    {
     "name": "stdout",
     "output_type": "stream",
     "text": [
      "[21, 83, 91, 64, 86, 14, 81, 77, 23, 84, 79, 84, 42, 84, 53, 71, 5, 58, 75, 36, 97, 30, 24, 60, 92]\n"
     ]
    }
   ],
   "source": [
    "print(random_numbers)"
   ]
  },
  {
   "cell_type": "code",
   "execution_count": 49,
   "id": "4e5ac0d1-a4f3-4acc-9980-6dac0ec1805b",
   "metadata": {},
   "outputs": [
    {
     "name": "stdout",
     "output_type": "stream",
     "text": [
      " This number is divisible by 3    :  21\n",
      " This number is not divisble by 3 :  83\n",
      " This number is not divisble by 3 :  91\n",
      " This number is not divisble by 3 :  64\n",
      " This number is not divisble by 3 :  86\n",
      " This number is not divisble by 3 :  14\n",
      " This number is divisible by 3    :  81\n",
      " This number is not divisble by 3 :  77\n",
      " This number is not divisble by 3 :  23\n",
      " This number is divisible by 3    :  84\n",
      " This number is not divisble by 3 :  79\n",
      " This number is divisible by 3    :  84\n",
      " This number is divisible by 3    :  42\n",
      " This number is divisible by 3    :  84\n",
      " This number is not divisble by 3 :  53\n",
      " This number is not divisble by 3 :  71\n",
      " This number is not divisble by 3 :  5\n",
      " This number is not divisble by 3 :  58\n",
      " This number is divisible by 3    :  75\n",
      " This number is divisible by 3    :  36\n",
      " This number is not divisble by 3 :  97\n",
      " This number is divisible by 3    :  30\n",
      " This number is divisible by 3    :  24\n",
      " This number is divisible by 3    :  60\n",
      " This number is not divisble by 3 :  92\n"
     ]
    }
   ],
   "source": [
    "list1 = [21, 83, 91, 64, 86, 14, 81, 77, 23, 84, 79, 84, 42, 84, 53, 71, 5, 58, 75, 36, 97, 30, 24, 60, 92]\n",
    "for i in list1 :\n",
    "    if i % 3 ==0:\n",
    "        print(\" This number is divisible by 3    : \", i)\n",
    "    else:\n",
    "        print(\" This number is not divisble by 3 : \",i )"
   ]
  },
  {
   "cell_type": "markdown",
   "id": "1f25dc74-7e62-44ff-ac12-01186528e699",
   "metadata": {},
   "source": [
    "# Q7. What do you understand about mutable and immutable data types? Give examples for both showing this property."
   ]
  },
  {
   "cell_type": "markdown",
   "id": "bf8b5641-f0e9-4e2e-bafa-6c7a20e732ed",
   "metadata": {},
   "source": [
    "# Mutable : we can change the data/info accounding ourself.\n",
    "# Inmutable : we can't change the data /info accounding ourself"
   ]
  },
  {
   "cell_type": "code",
   "execution_count": 52,
   "id": "79d20fec-6109-4fef-927b-2e9db968c1fa",
   "metadata": {},
   "outputs": [],
   "source": [
    "list1 = [1,3,4,5,6] # ww can change the element in list so it is mutable\n",
    "list1[1] = 5"
   ]
  },
  {
   "cell_type": "code",
   "execution_count": 51,
   "id": "b7974ccf-c1a0-4bdf-a615-ad84aebfd9d1",
   "metadata": {},
   "outputs": [
    {
     "data": {
      "text/plain": [
       "[1, 5, 4, 5, 6]"
      ]
     },
     "execution_count": 51,
     "metadata": {},
     "output_type": "execute_result"
    }
   ],
   "source": [
    "list1"
   ]
  },
  {
   "cell_type": "code",
   "execution_count": 53,
   "id": "e74db28c-3ef6-4d37-9e54-7e2f94446fa4",
   "metadata": {},
   "outputs": [
    {
     "ename": "TypeError",
     "evalue": "'set' object does not support item assignment",
     "output_type": "error",
     "traceback": [
      "\u001b[0;31m---------------------------------------------------------------------------\u001b[0m",
      "\u001b[0;31mTypeError\u001b[0m                                 Traceback (most recent call last)",
      "Cell \u001b[0;32mIn[53], line 2\u001b[0m\n\u001b[1;32m      1\u001b[0m set1 \u001b[38;5;241m=\u001b[39m{\u001b[38;5;241m1\u001b[39m,\u001b[38;5;241m3\u001b[39m,\u001b[38;5;241m4\u001b[39m,\u001b[38;5;241m5\u001b[39m}\n\u001b[0;32m----> 2\u001b[0m \u001b[43mset1\u001b[49m\u001b[43m[\u001b[49m\u001b[38;5;241;43m2\u001b[39;49m\u001b[43m]\u001b[49m \u001b[38;5;241m=\u001b[39m \u001b[38;5;241m9\u001b[39m\n",
      "\u001b[0;31mTypeError\u001b[0m: 'set' object does not support item assignment"
     ]
    }
   ],
   "source": [
    "set1 ={1,3,4,5} # set is inmutable we change the element in set\n",
    "set1[2] = 9"
   ]
  },
  {
   "cell_type": "code",
   "execution_count": null,
   "id": "27484999-1447-44e7-9e32-109c2e79f8fa",
   "metadata": {},
   "outputs": [],
   "source": []
  }
 ],
 "metadata": {
  "kernelspec": {
   "display_name": "Python 3 (ipykernel)",
   "language": "python",
   "name": "python3"
  },
  "language_info": {
   "codemirror_mode": {
    "name": "ipython",
    "version": 3
   },
   "file_extension": ".py",
   "mimetype": "text/x-python",
   "name": "python",
   "nbconvert_exporter": "python",
   "pygments_lexer": "ipython3",
   "version": "3.10.8"
  }
 },
 "nbformat": 4,
 "nbformat_minor": 5
}
